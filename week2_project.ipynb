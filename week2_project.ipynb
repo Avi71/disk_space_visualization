{
 "cells": [
  {
   "cell_type": "code",
   "execution_count": 17,
   "metadata": {},
   "outputs": [
    {
     "data": {
      "text/html": [
       "<script>requirejs.config({paths: { 'plotly': ['https://cdn.plot.ly/plotly-latest.min']},});if(!window.Plotly) {{require(['plotly'],function(plotly) {window.Plotly=plotly;});}}</script>"
      ],
      "text/vnd.plotly.v1+html": [
       "<script>requirejs.config({paths: { 'plotly': ['https://cdn.plot.ly/plotly-latest.min']},});if(!window.Plotly) {{require(['plotly'],function(plotly) {window.Plotly=plotly;});}}</script>"
      ]
     },
     "metadata": {},
     "output_type": "display_data"
    },
    {
     "name": "stderr",
     "output_type": "stream",
     "text": [
      "IOPub data rate exceeded.\n",
      "The notebook server will temporarily stop sending output\n",
      "to the client in order to avoid crashing it.\n",
      "To change this limit, set the config variable\n",
      "`--NotebookApp.iopub_data_rate_limit`.\n"
     ]
    },
    {
     "name": "stdout",
     "output_type": "stream",
     "text": [
      "Enter the directory = C:\\Users\n",
      "C:\\Users\\\n",
      "\n",
      "\n",
      "['ABHISHEK', 'All Users', 'Default', 'Default User', 'defaultuser0', 'desktop.ini', 'Public']\n",
      "\n",
      "\n",
      "\n",
      "\n",
      "\n",
      "      FILE_NAME  DISK_SPACE_IN_MEGA_BYTES\n",
      "0      ABHISHEK                  0.019531\n",
      "1     All Users                  0.007812\n",
      "2       Default                  0.007812\n",
      "3  Default User                  0.007812\n",
      "4  defaultuser0                  0.000000\n",
      "5   desktop.ini                  0.000166\n",
      "6        Public                  0.003906\n",
      "\n",
      "\n",
      "Visualization of the data is as follows :\n",
      "\n",
      "\n"
     ]
    },
    {
     "data": {
      "application/vnd.plotly.v1+json": {
       "data": [
        {
         "line": {
          "color": "rgba(219, 64, 82, 1.0)",
          "dash": "solid",
          "width": 1.3
         },
         "marker": {
          "size": 12,
          "symbol": "dot"
         },
         "mode": "markers",
         "name": "DISK_SPACE_IN_MEGA_BYTES",
         "text": "",
         "type": "scatter",
         "x": [
          "ABHISHEK",
          "All Users",
          "Default",
          "Default User",
          "defaultuser0",
          "desktop.ini",
          "Public"
         ],
         "y": [
          0.01953125,
          0.0078125,
          0.0078125,
          0.0078125,
          0,
          0.0001659393310546875,
          0.00390625
         ]
        }
       ],
       "layout": {
        "legend": {
         "bgcolor": "#F5F6F9",
         "font": {
          "color": "#4D5663"
         }
        },
        "paper_bgcolor": "#F5F6F9",
        "plot_bgcolor": "#F5F6F9",
        "titlefont": {
         "color": "#4D5663"
        },
        "xaxis1": {
         "gridcolor": "#E1E5ED",
         "showgrid": true,
         "tickfont": {
          "color": "#4D5663"
         },
         "title": "FILE_NAME",
         "titlefont": {
          "color": "#4D5663"
         },
         "zerolinecolor": "#E1E5ED"
        },
        "yaxis1": {
         "gridcolor": "#E1E5ED",
         "showgrid": true,
         "tickfont": {
          "color": "#4D5663"
         },
         "title": "DISK_SPACE_IN_MEGA_BYTES",
         "titlefont": {
          "color": "#4D5663"
         },
         "zerolinecolor": "#E1E5ED"
        }
       }
      },
      "text/html": [
       "<div id=\"a1c908b8-9eba-4415-9b80-8cfa6341c578\" style=\"height: 525px; width: 100%;\" class=\"plotly-graph-div\"></div><script type=\"text/javascript\">require([\"plotly\"], function(Plotly) { window.PLOTLYENV=window.PLOTLYENV || {};window.PLOTLYENV.BASE_URL=\"https://plot.ly\";Plotly.newPlot(\"a1c908b8-9eba-4415-9b80-8cfa6341c578\", [{\"type\": \"scatter\", \"x\": [\"ABHISHEK\", \"All Users\", \"Default\", \"Default User\", \"defaultuser0\", \"desktop.ini\", \"Public\"], \"y\": [0.01953125, 0.0078125, 0.0078125, 0.0078125, 0.0, 0.0001659393310546875, 0.00390625], \"name\": \"DISK_SPACE_IN_MEGA_BYTES\", \"text\": \"\", \"line\": {\"color\": \"rgba(219, 64, 82, 1.0)\", \"width\": 1.3, \"dash\": \"solid\"}, \"mode\": \"markers\", \"marker\": {\"symbol\": \"dot\", \"size\": 12}}], {\"legend\": {\"bgcolor\": \"#F5F6F9\", \"font\": {\"color\": \"#4D5663\"}}, \"paper_bgcolor\": \"#F5F6F9\", \"plot_bgcolor\": \"#F5F6F9\", \"yaxis1\": {\"tickfont\": {\"color\": \"#4D5663\"}, \"gridcolor\": \"#E1E5ED\", \"titlefont\": {\"color\": \"#4D5663\"}, \"zerolinecolor\": \"#E1E5ED\", \"showgrid\": true, \"title\": \"DISK_SPACE_IN_MEGA_BYTES\"}, \"xaxis1\": {\"tickfont\": {\"color\": \"#4D5663\"}, \"gridcolor\": \"#E1E5ED\", \"titlefont\": {\"color\": \"#4D5663\"}, \"zerolinecolor\": \"#E1E5ED\", \"showgrid\": true, \"title\": \"FILE_NAME\"}, \"titlefont\": {\"color\": \"#4D5663\"}}, {\"showLink\": true, \"linkText\": \"Export to plot.ly\"})});</script>"
      ],
      "text/vnd.plotly.v1+html": [
       "<div id=\"a1c908b8-9eba-4415-9b80-8cfa6341c578\" style=\"height: 525px; width: 100%;\" class=\"plotly-graph-div\"></div><script type=\"text/javascript\">require([\"plotly\"], function(Plotly) { window.PLOTLYENV=window.PLOTLYENV || {};window.PLOTLYENV.BASE_URL=\"https://plot.ly\";Plotly.newPlot(\"a1c908b8-9eba-4415-9b80-8cfa6341c578\", [{\"type\": \"scatter\", \"x\": [\"ABHISHEK\", \"All Users\", \"Default\", \"Default User\", \"defaultuser0\", \"desktop.ini\", \"Public\"], \"y\": [0.01953125, 0.0078125, 0.0078125, 0.0078125, 0.0, 0.0001659393310546875, 0.00390625], \"name\": \"DISK_SPACE_IN_MEGA_BYTES\", \"text\": \"\", \"line\": {\"color\": \"rgba(219, 64, 82, 1.0)\", \"width\": 1.3, \"dash\": \"solid\"}, \"mode\": \"markers\", \"marker\": {\"symbol\": \"dot\", \"size\": 12}}], {\"legend\": {\"bgcolor\": \"#F5F6F9\", \"font\": {\"color\": \"#4D5663\"}}, \"paper_bgcolor\": \"#F5F6F9\", \"plot_bgcolor\": \"#F5F6F9\", \"yaxis1\": {\"tickfont\": {\"color\": \"#4D5663\"}, \"gridcolor\": \"#E1E5ED\", \"titlefont\": {\"color\": \"#4D5663\"}, \"zerolinecolor\": \"#E1E5ED\", \"showgrid\": true, \"title\": \"DISK_SPACE_IN_MEGA_BYTES\"}, \"xaxis1\": {\"tickfont\": {\"color\": \"#4D5663\"}, \"gridcolor\": \"#E1E5ED\", \"titlefont\": {\"color\": \"#4D5663\"}, \"zerolinecolor\": \"#E1E5ED\", \"showgrid\": true, \"title\": \"FILE_NAME\"}, \"titlefont\": {\"color\": \"#4D5663\"}}, {\"showLink\": true, \"linkText\": \"Export to plot.ly\"})});</script>"
      ]
     },
     "metadata": {},
     "output_type": "display_data"
    },
    {
     "data": {
      "application/vnd.plotly.v1+json": {
       "data": [
        {
         "marker": {
          "color": "rgba(219, 64, 82, 0.6)",
          "line": {
           "color": "rgba(219, 64, 82, 1.0)",
           "width": 1
          }
         },
         "name": "DISK_SPACE_IN_MEGA_BYTES",
         "orientation": "v",
         "text": "",
         "type": "bar",
         "x": [
          "ABHISHEK",
          "All Users",
          "Default",
          "Default User",
          "defaultuser0",
          "desktop.ini",
          "Public"
         ],
         "y": [
          0.01953125,
          0.0078125,
          0.0078125,
          0.0078125,
          0,
          0.0001659393310546875,
          0.00390625
         ]
        }
       ],
       "layout": {
        "legend": {
         "bgcolor": "#F5F6F9",
         "font": {
          "color": "#4D5663"
         }
        },
        "paper_bgcolor": "#F5F6F9",
        "plot_bgcolor": "#F5F6F9",
        "titlefont": {
         "color": "#4D5663"
        },
        "xaxis1": {
         "gridcolor": "#E1E5ED",
         "showgrid": true,
         "tickfont": {
          "color": "#4D5663"
         },
         "title": "FILE_NAME",
         "titlefont": {
          "color": "#4D5663"
         },
         "zerolinecolor": "#E1E5ED"
        },
        "yaxis1": {
         "gridcolor": "#E1E5ED",
         "showgrid": true,
         "tickfont": {
          "color": "#4D5663"
         },
         "title": "DISK_SPACE_IN_MEGA_BYTES",
         "titlefont": {
          "color": "#4D5663"
         },
         "zerolinecolor": "#E1E5ED"
        }
       }
      },
      "text/html": [
       "<div id=\"e8e7b1f6-9382-4815-bf39-d95b49afe375\" style=\"height: 525px; width: 100%;\" class=\"plotly-graph-div\"></div><script type=\"text/javascript\">require([\"plotly\"], function(Plotly) { window.PLOTLYENV=window.PLOTLYENV || {};window.PLOTLYENV.BASE_URL=\"https://plot.ly\";Plotly.newPlot(\"e8e7b1f6-9382-4815-bf39-d95b49afe375\", [{\"type\": \"bar\", \"x\": [\"ABHISHEK\", \"All Users\", \"Default\", \"Default User\", \"defaultuser0\", \"desktop.ini\", \"Public\"], \"y\": [0.01953125, 0.0078125, 0.0078125, 0.0078125, 0.0, 0.0001659393310546875, 0.00390625], \"name\": \"DISK_SPACE_IN_MEGA_BYTES\", \"text\": \"\", \"marker\": {\"color\": \"rgba(219, 64, 82, 0.6)\", \"line\": {\"color\": \"rgba(219, 64, 82, 1.0)\", \"width\": 1}}, \"orientation\": \"v\"}], {\"legend\": {\"bgcolor\": \"#F5F6F9\", \"font\": {\"color\": \"#4D5663\"}}, \"paper_bgcolor\": \"#F5F6F9\", \"plot_bgcolor\": \"#F5F6F9\", \"yaxis1\": {\"tickfont\": {\"color\": \"#4D5663\"}, \"gridcolor\": \"#E1E5ED\", \"titlefont\": {\"color\": \"#4D5663\"}, \"zerolinecolor\": \"#E1E5ED\", \"showgrid\": true, \"title\": \"DISK_SPACE_IN_MEGA_BYTES\"}, \"xaxis1\": {\"tickfont\": {\"color\": \"#4D5663\"}, \"gridcolor\": \"#E1E5ED\", \"titlefont\": {\"color\": \"#4D5663\"}, \"zerolinecolor\": \"#E1E5ED\", \"showgrid\": true, \"title\": \"FILE_NAME\"}, \"titlefont\": {\"color\": \"#4D5663\"}}, {\"showLink\": true, \"linkText\": \"Export to plot.ly\"})});</script>"
      ],
      "text/vnd.plotly.v1+html": [
       "<div id=\"e8e7b1f6-9382-4815-bf39-d95b49afe375\" style=\"height: 525px; width: 100%;\" class=\"plotly-graph-div\"></div><script type=\"text/javascript\">require([\"plotly\"], function(Plotly) { window.PLOTLYENV=window.PLOTLYENV || {};window.PLOTLYENV.BASE_URL=\"https://plot.ly\";Plotly.newPlot(\"e8e7b1f6-9382-4815-bf39-d95b49afe375\", [{\"type\": \"bar\", \"x\": [\"ABHISHEK\", \"All Users\", \"Default\", \"Default User\", \"defaultuser0\", \"desktop.ini\", \"Public\"], \"y\": [0.01953125, 0.0078125, 0.0078125, 0.0078125, 0.0, 0.0001659393310546875, 0.00390625], \"name\": \"DISK_SPACE_IN_MEGA_BYTES\", \"text\": \"\", \"marker\": {\"color\": \"rgba(219, 64, 82, 0.6)\", \"line\": {\"color\": \"rgba(219, 64, 82, 1.0)\", \"width\": 1}}, \"orientation\": \"v\"}], {\"legend\": {\"bgcolor\": \"#F5F6F9\", \"font\": {\"color\": \"#4D5663\"}}, \"paper_bgcolor\": \"#F5F6F9\", \"plot_bgcolor\": \"#F5F6F9\", \"yaxis1\": {\"tickfont\": {\"color\": \"#4D5663\"}, \"gridcolor\": \"#E1E5ED\", \"titlefont\": {\"color\": \"#4D5663\"}, \"zerolinecolor\": \"#E1E5ED\", \"showgrid\": true, \"title\": \"DISK_SPACE_IN_MEGA_BYTES\"}, \"xaxis1\": {\"tickfont\": {\"color\": \"#4D5663\"}, \"gridcolor\": \"#E1E5ED\", \"titlefont\": {\"color\": \"#4D5663\"}, \"zerolinecolor\": \"#E1E5ED\", \"showgrid\": true, \"title\": \"FILE_NAME\"}, \"titlefont\": {\"color\": \"#4D5663\"}}, {\"showLink\": true, \"linkText\": \"Export to plot.ly\"})});</script>"
      ]
     },
     "metadata": {},
     "output_type": "display_data"
    },
    {
     "data": {
      "application/vnd.plotly.v1+json": {
       "data": [
        {
         "line": {
          "color": "rgba(255, 153, 51, 1.0)",
          "dash": "solid",
          "width": 1.3
         },
         "mode": "lines",
         "name": "DISK_SPACE_IN_MEGA_BYTES",
         "text": "",
         "type": "scatter",
         "x": [
          "ABHISHEK",
          "All Users",
          "Default",
          "Default User",
          "defaultuser0",
          "desktop.ini",
          "Public"
         ],
         "y": [
          0.01953125,
          0.0078125,
          0.0078125,
          0.0078125,
          0,
          0.0001659393310546875,
          0.00390625
         ]
        }
       ],
       "layout": {
        "legend": {
         "bgcolor": "#F5F6F9",
         "font": {
          "color": "#4D5663"
         }
        },
        "paper_bgcolor": "#F5F6F9",
        "plot_bgcolor": "#F5F6F9",
        "titlefont": {
         "color": "#4D5663"
        },
        "xaxis1": {
         "gridcolor": "#E1E5ED",
         "showgrid": true,
         "tickfont": {
          "color": "#4D5663"
         },
         "title": "FILE_NAME",
         "titlefont": {
          "color": "#4D5663"
         },
         "zerolinecolor": "#E1E5ED"
        },
        "yaxis1": {
         "gridcolor": "#E1E5ED",
         "showgrid": true,
         "tickfont": {
          "color": "#4D5663"
         },
         "title": "DISK_SPACE_IN_MEGA_BYTES",
         "titlefont": {
          "color": "#4D5663"
         },
         "zerolinecolor": "#E1E5ED"
        }
       }
      },
      "text/html": [
       "<div id=\"0c3fe9f2-b7b2-4090-afac-13e5361049b4\" style=\"height: 525px; width: 100%;\" class=\"plotly-graph-div\"></div><script type=\"text/javascript\">require([\"plotly\"], function(Plotly) { window.PLOTLYENV=window.PLOTLYENV || {};window.PLOTLYENV.BASE_URL=\"https://plot.ly\";Plotly.newPlot(\"0c3fe9f2-b7b2-4090-afac-13e5361049b4\", [{\"type\": \"scatter\", \"x\": [\"ABHISHEK\", \"All Users\", \"Default\", \"Default User\", \"defaultuser0\", \"desktop.ini\", \"Public\"], \"y\": [0.01953125, 0.0078125, 0.0078125, 0.0078125, 0.0, 0.0001659393310546875, 0.00390625], \"name\": \"DISK_SPACE_IN_MEGA_BYTES\", \"text\": \"\", \"line\": {\"color\": \"rgba(255, 153, 51, 1.0)\", \"width\": 1.3, \"dash\": \"solid\"}, \"mode\": \"lines\"}], {\"legend\": {\"bgcolor\": \"#F5F6F9\", \"font\": {\"color\": \"#4D5663\"}}, \"paper_bgcolor\": \"#F5F6F9\", \"plot_bgcolor\": \"#F5F6F9\", \"yaxis1\": {\"tickfont\": {\"color\": \"#4D5663\"}, \"gridcolor\": \"#E1E5ED\", \"titlefont\": {\"color\": \"#4D5663\"}, \"zerolinecolor\": \"#E1E5ED\", \"showgrid\": true, \"title\": \"DISK_SPACE_IN_MEGA_BYTES\"}, \"xaxis1\": {\"tickfont\": {\"color\": \"#4D5663\"}, \"gridcolor\": \"#E1E5ED\", \"titlefont\": {\"color\": \"#4D5663\"}, \"zerolinecolor\": \"#E1E5ED\", \"showgrid\": true, \"title\": \"FILE_NAME\"}, \"titlefont\": {\"color\": \"#4D5663\"}}, {\"showLink\": true, \"linkText\": \"Export to plot.ly\"})});</script>"
      ],
      "text/vnd.plotly.v1+html": [
       "<div id=\"0c3fe9f2-b7b2-4090-afac-13e5361049b4\" style=\"height: 525px; width: 100%;\" class=\"plotly-graph-div\"></div><script type=\"text/javascript\">require([\"plotly\"], function(Plotly) { window.PLOTLYENV=window.PLOTLYENV || {};window.PLOTLYENV.BASE_URL=\"https://plot.ly\";Plotly.newPlot(\"0c3fe9f2-b7b2-4090-afac-13e5361049b4\", [{\"type\": \"scatter\", \"x\": [\"ABHISHEK\", \"All Users\", \"Default\", \"Default User\", \"defaultuser0\", \"desktop.ini\", \"Public\"], \"y\": [0.01953125, 0.0078125, 0.0078125, 0.0078125, 0.0, 0.0001659393310546875, 0.00390625], \"name\": \"DISK_SPACE_IN_MEGA_BYTES\", \"text\": \"\", \"line\": {\"color\": \"rgba(255, 153, 51, 1.0)\", \"width\": 1.3, \"dash\": \"solid\"}, \"mode\": \"lines\"}], {\"legend\": {\"bgcolor\": \"#F5F6F9\", \"font\": {\"color\": \"#4D5663\"}}, \"paper_bgcolor\": \"#F5F6F9\", \"plot_bgcolor\": \"#F5F6F9\", \"yaxis1\": {\"tickfont\": {\"color\": \"#4D5663\"}, \"gridcolor\": \"#E1E5ED\", \"titlefont\": {\"color\": \"#4D5663\"}, \"zerolinecolor\": \"#E1E5ED\", \"showgrid\": true, \"title\": \"DISK_SPACE_IN_MEGA_BYTES\"}, \"xaxis1\": {\"tickfont\": {\"color\": \"#4D5663\"}, \"gridcolor\": \"#E1E5ED\", \"titlefont\": {\"color\": \"#4D5663\"}, \"zerolinecolor\": \"#E1E5ED\", \"showgrid\": true, \"title\": \"FILE_NAME\"}, \"titlefont\": {\"color\": \"#4D5663\"}}, {\"showLink\": true, \"linkText\": \"Export to plot.ly\"})});</script>"
      ]
     },
     "metadata": {},
     "output_type": "display_data"
    },
    {
     "name": "stdout",
     "output_type": "stream",
     "text": [
      "\n",
      "\n",
      "Enter 1 to go to a child directory\n",
      "Enter 2 to go to parent directory\n",
      "Enter 3 to exit\n",
      "Enter your choice = 3\n",
      "thank you!\n"
     ]
    }
   ],
   "source": [
    "import os\n",
    "\n",
    "import pandas as pd\n",
    "\n",
    "import cufflinks as cf\n",
    "from plotly import __version__\n",
    "from plotly.offline import download_plotlyjs,init_notebook_mode,plot,iplot\n",
    "init_notebook_mode(connected=True)\n",
    "cf.go_offline()\n",
    "%matplotlib inline\n",
    "\n",
    "flag=1\n",
    "def input_name():\n",
    "    global f\n",
    "    f = input(\"Enter the directory = \")\n",
    "    \n",
    "    c=check(f)\n",
    "    if(c==False):\n",
    "        print(\"Incorrect Directory\\nPlease try again!\\n\")\n",
    "        input_name()\n",
    "    \n",
    "\n",
    "def check(f1):\n",
    "    if(os.path.exists(f1)==True):\n",
    "        return True\n",
    "    else:\n",
    "        return False\n",
    "input_name() \n",
    "file_path=f+\"\\\\\" \n",
    "\n",
    "os.chdir(file_path)\n",
    "print(file_path)\n",
    "print('\\n')\n",
    "\n",
    "\n",
    "\n",
    "\n",
    "while(flag==1): \n",
    "    \n",
    "    print(os.listdir())\n",
    "    \n",
    "    size=[]\n",
    "\n",
    "    for file in (os.listdir()):\n",
    "         size.append(os.stat(file).st_size)\n",
    "\n",
    "    print('\\n')\n",
    "    \n",
    "    \n",
    "    size1=[i/(1024*1024) for i in size]\n",
    "    d={'DISK_SPACE_IN_MEGA_BYTES': size1,'FILE_NAME': os.listdir(),}\n",
    "    df = pd.DataFrame(data=d,columns=['FILE_NAME','DISK_SPACE_IN_MEGA_BYTES'])\n",
    "    \n",
    "    print('\\n\\n')\n",
    "    print(df)\n",
    "    print(\"\\n\\nVisualization of the data is as follows :\\n\\n\")\n",
    "    df.iplot(kind='scatter',x='FILE_NAME',y='DISK_SPACE_IN_MEGA_BYTES',mode='markers',xTitle='FILE_NAME',yTitle='DISK_SPACE_IN_MEGA_BYTES',color='red')\n",
    "    df.iplot(kind='bar',x='FILE_NAME',y='DISK_SPACE_IN_MEGA_BYTES',mode='markers',xTitle='FILE_NAME',yTitle='DISK_SPACE_IN_MEGA_BYTES',color='red')\n",
    "    df.iplot(kind='line',x='FILE_NAME',y='DISK_SPACE_IN_MEGA_BYTES',xTitle='FILE_NAME',yTitle='DISK_SPACE_IN_MEGA_BYTES')\n",
    "    \n",
    "    \n",
    "    choice=input(\"\\n\\nEnter 1 to go to a child directory\\nEnter 2 to go to parent directory\\nEnter 3 to exit\\nEnter your choice = \")\n",
    "    \n",
    "    if(choice=='1'):\n",
    "        child=input(\"Enter child file name = \")\n",
    "        file_path = os.path.join(file_path,child)\n",
    "        os.chdir(file_path)\n",
    "        flag=1\n",
    "        \n",
    "    elif(choice=='2'):\n",
    "        file_path = file_path[:-1]\n",
    "        file_path=os.path.dirname(file_path)\n",
    "        os.chdir(file_path)\n",
    "        flag=1\n",
    "        \n",
    "        \n",
    "    else:\n",
    "        flag=0\n",
    "    \n",
    "        \n",
    "print(\"thank you!\")"
   ]
  },
  {
   "cell_type": "code",
   "execution_count": null,
   "metadata": {
    "collapsed": true
   },
   "outputs": [],
   "source": []
  }
 ],
 "metadata": {
  "kernelspec": {
   "display_name": "Python 3",
   "language": "python",
   "name": "python3"
  },
  "language_info": {
   "codemirror_mode": {
    "name": "ipython",
    "version": 3
   },
   "file_extension": ".py",
   "mimetype": "text/x-python",
   "name": "python",
   "nbconvert_exporter": "python",
   "pygments_lexer": "ipython3",
   "version": "3.6.3"
  }
 },
 "nbformat": 4,
 "nbformat_minor": 2
}
